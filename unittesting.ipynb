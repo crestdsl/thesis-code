{
 "cells": [
  {
   "cell_type": "markdown",
   "metadata": {},
   "source": [
    "# Define the entity to be tested"
   ]
  },
  {
   "cell_type": "code",
   "execution_count": 1,
   "metadata": {},
   "outputs": [],
   "source": [
    "import crestdsl.model as crest\n",
    "from crestdsl.simulation import Simulator"
   ]
  },
  {
   "cell_type": "code",
   "execution_count": 2,
   "metadata": {},
   "outputs": [],
   "source": [
    "# define the required resources\n",
    "onOff = crest.Resource(unit=\"onOff\", domain=[\"on\", \"off\"])\n",
    "watt = crest.Resource(unit=\"Watt\", domain=crest.REAL)  \n",
    "celsius = crest.Resource(unit=\"Celsius\", domain=crest.REAL)\n",
    "time = crest.Resource(unit=\"Time\", domain=crest.REAL)\n",
    "\n",
    "class HeatModule(crest.Entity):\n",
    "    switch = crest.Input(resource=onOff, value=\"on\")\n",
    "    electricity = crest.Input(resource=watt, value=0)\n",
    "    internal_temp = crest.Local(resource=celsius, value=0)\n",
    "    timer = crest.Local(resource=time, value=0)\n",
    "    heating = crest.Output(resource=watt, value=0)\n",
    "    \n",
    "    # states\n",
    "    off = current = crest.State()\n",
    "    on = crest.State()\n",
    "    error = crest.State()\n",
    "    \n",
    "    # transitions\n",
    "    @crest.transition(source=off, target=on)\n",
    "    def to_on(self):\n",
    "        return self.switch.value == \"on\" and self.timer.value <= 0 and self.electricity.value >= 200\n",
    "    @crest.transition(source=on, target=off)\n",
    "    def to_off(self):\n",
    "        return self.switch.value != \"on\" or self.timer.value >= 30 or self.electricity.value < 200\n",
    "    @crest.transition(source=on, target=error)\n",
    "    def to_error(self):\n",
    "        return self.internal_temp.value >= 400\n",
    "    \n",
    "    # updates for heat energy output\n",
    "    @crest.update(state=on, target=heating)\n",
    "    def on_update_output(self, dt):\n",
    "        # 50 per cent efficiency\n",
    "        return self.electricity.value * 0.5 \n",
    "    @crest.update(state=off, target=heating)\n",
    "    def off_update_output(self, dt):\n",
    "        return 0\n",
    "    @crest.update(state=error, target=heating)\n",
    "    def error_update_output(self, dt):\n",
    "        return 0\n",
    "    \n",
    "    # update timer:\n",
    "    @crest.update(state=on, target=timer)\n",
    "    def on_update_timer(self, dt):\n",
    "        return self.timer.value + dt\n",
    "    @crest.update(state=off, target=timer)\n",
    "    def off_update_timer(self, dt):\n",
    "        new_value = self.timer.value - 2 * dt\n",
    "        if new_value <= 0:   # don't go below 0\n",
    "            return 0\n",
    "        else:\n",
    "            return new_value\n",
    "\n",
    "    # updates for internal_temp\n",
    "    @crest.update(state=on, target=internal_temp)\n",
    "    def on_update_internal_temp(self, dt):\n",
    "        # if more than 200 watt, we grow\n",
    "        # one tenth degree per extra watt per time unit\n",
    "        # if lower, we sink at the same rate\n",
    "        factor = (self.electricity.value - 200) / 10\n",
    "        \n",
    "        if self.electricity.value >= 200:\n",
    "            return self.internal_temp.value + factor * dt\n",
    "        else:\n",
    "            new_value = self.internal_temp.value + factor * dt\n",
    "            return max(new_value, 22)  # don't go below 22\n",
    "        \n",
    "    @crest.update(state=[off,error], target=internal_temp)\n",
    "    def off_error_update_internal_temp(self, dt):\n",
    "        # see formula above\n",
    "        new_value = self.internal_temp.value - 20 * dt\n",
    "        return max(new_value, 22)  # don't go below 22\n"
   ]
  },
  {
   "cell_type": "markdown",
   "metadata": {},
   "source": [
    "# Define unit test"
   ]
  },
  {
   "cell_type": "code",
   "execution_count": 3,
   "metadata": {},
   "outputs": [],
   "source": [
    "import unittest\n",
    "\n",
    "class HeatModuleTest(unittest.TestCase):\n",
    "\n",
    "    def test_switch_on(self):\n",
    "        \"\"\"Test to assert correct transition to on state.\"\"\"\n",
    "        # setup\n",
    "        hm = HeatModule()\n",
    "        hm.current = hm.off\n",
    "        hm.electricity.value = 250\n",
    "        hm.timer.value = 0\n",
    "        hm.switch.value = \"on\"\n",
    "        # action\n",
    "        sim = Simulator(hm)\n",
    "        sim.stabilise()\n",
    "        # assert\n",
    "        self.assertEqual(hm.current, hm.on, \"The heatmodule...\")"
   ]
  },
  {
   "cell_type": "markdown",
   "metadata": {},
   "source": [
    "# Run test"
   ]
  },
  {
   "cell_type": "code",
   "execution_count": 4,
   "metadata": {},
   "outputs": [
    {
     "name": "stderr",
     "output_type": "stream",
     "text": [
      ".\n",
      "----------------------------------------------------------------------\n",
      "Ran 1 test in 0.016s\n",
      "\n",
      "OK\n"
     ]
    },
    {
     "data": {
      "text/plain": [
       "<unittest.runner.TextTestResult run=1 errors=0 failures=0>"
      ]
     },
     "execution_count": 4,
     "metadata": {},
     "output_type": "execute_result"
    }
   ],
   "source": [
    "tests = unittest.TestLoader().loadTestsFromTestCase(HeatModuleTest)\n",
    "unittest.TextTestRunner().run(tests)"
   ]
  }
 ],
 "metadata": {
  "kernelspec": {
   "display_name": "Python 3",
   "language": "python",
   "name": "python3"
  },
  "language_info": {
   "codemirror_mode": {
    "name": "ipython",
    "version": 3
   },
   "file_extension": ".py",
   "mimetype": "text/x-python",
   "name": "python",
   "nbconvert_exporter": "python",
   "pygments_lexer": "ipython3",
   "version": "3.7.3"
  }
 },
 "nbformat": 4,
 "nbformat_minor": 2
}
