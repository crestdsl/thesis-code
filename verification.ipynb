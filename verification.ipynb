{
 "cells": [
  {
   "cell_type": "code",
   "execution_count": null,
   "metadata": {},
   "outputs": [],
   "source": [
    "import crestdsl.model as crest\n",
    "import crestdsl.ui as crestui\n",
    "\n",
    "import logging\n",
    "sslog = logging.getLogger(\"crestdsl.verification.statespace\")  # show us some logging info\n",
    "sslog.setLevel(logging.INFO)"
   ]
  },
  {
   "cell_type": "markdown",
   "metadata": {},
   "source": [
    "# Model the germination system"
   ]
  },
  {
   "cell_type": "code",
   "execution_count": null,
   "metadata": {},
   "outputs": [],
   "source": [
    "# resources\n",
    "onOff = crest.Resource(unit=\"onOff\", domain=[\"on\", \"off\"])\n",
    "celsius = crest.Resource(unit=\"Celsius\", domain=crest.REAL)\n",
    "time = crest.Resource(unit=\"Time\", domain=crest.REAL)"
   ]
  },
  {
   "cell_type": "code",
   "execution_count": null,
   "metadata": {
    "code_folding": [],
    "scrolled": false
   },
   "outputs": [],
   "source": [
    "class GerminationBox(crest.Entity):\n",
    "    switch = crest.Input(resource=onOff, value=\"on\")   \n",
    "    temperature = crest.Local(resource=celsius, value=22)\n",
    "    \n",
    "    state = current = crest.State()\n",
    "    \n",
    "    @crest.update(state=state, target=temperature)\n",
    "    def update_temp(self, dt):\n",
    "        if self.switch.value == \"on\":\n",
    "            # don't exceed 40 (this is the maximum temperature)\n",
    "            return min(40, self.temperature.value + 0.5 * dt)\n",
    "        else:\n",
    "            # don't go below 22 (minimum = current room temperature)\n",
    "            return max(22, self.temperature.value - 0.25 * dt)\n",
    "        \n",
    "crestui.plot(GerminationBox())"
   ]
  },
  {
   "cell_type": "code",
   "execution_count": null,
   "metadata": {
    "code_folding": [
     0
    ],
    "scrolled": false
   },
   "outputs": [],
   "source": [
    "class GerminationSystem(crest.Entity):\n",
    "    switch = crest.Input(resource=onOff, value=\"on\")\n",
    "    countdown = crest.Local(resource=time, value=0)\n",
    "    \n",
    "    germinationbox_one = GerminationBox()\n",
    "    germinationbox_two = GerminationBox()\n",
    "    \n",
    "    off = current = crest.State()\n",
    "    on = crest.State()\n",
    "    pause = crest.State()\n",
    "    boxOne = crest.State()\n",
    "    boxTwo = crest.State()\n",
    "    \n",
    "    # transitions\n",
    "    @crest.transition(source=[on,boxOne,boxTwo,pause], target=off)\n",
    "    def on_to_off(self):\n",
    "        return self.switch.value == \"off\"\n",
    "    \n",
    "    @crest.transition(source=off, target=on)\n",
    "    def off_to_on(self):\n",
    "        return self.switch.value == \"on\"\n",
    "    \n",
    "    @crest.transition(source=[boxOne,boxTwo,pause], target=on)\n",
    "    def return_to_on(self):\n",
    "        return self.countdown.value <= 0\n",
    "    \n",
    "    @crest.transition(source=on, target=[boxOne,boxTwo])\n",
    "    def on_to_box(self):\n",
    "        return self.countdown.value <= 0\n",
    "    \n",
    "    @crest.transition(source=on, target=pause)\n",
    "    def on_to_pause(self):\n",
    "        return self.countdown.value <= 0\n",
    "    \n",
    "    \"\"\" updates \"\"\"\n",
    "    \n",
    "    @crest.update(state=[on,boxOne,boxTwo,pause], target=countdown)\n",
    "    def reduce_countdown(self, dt):\n",
    "        return max(0, self.countdown.value - dt)\n",
    "    \n",
    "    @crest.update(state=boxOne, target=germinationbox_one.switch)\n",
    "    def turn_on_boxOne(self, dt):\n",
    "        return \"on\"\n",
    "    \n",
    "    @crest.update(state=[on,pause,off,boxTwo], target=germinationbox_one.switch)\n",
    "    def turn_off_boxOne(self, dt):\n",
    "        return \"off\"\n",
    "    \n",
    "    @crest.update(state=boxTwo, target=germinationbox_two.switch)\n",
    "    def turn_on_boxTwo(self, dt):\n",
    "        return \"on\"\n",
    "    \n",
    "    @crest.update(state=[on,pause,off,boxOne], target=germinationbox_two.switch)\n",
    "    def turn_off_boxTwo(self, dt):\n",
    "        return \"off\"\n",
    "    \n",
    "    \"\"\" transition actions \"\"\"\n",
    "    \n",
    "    @crest.action(transition=off_to_on, target=countdown)\n",
    "    def set_countdown_zero_when_turn_on(self):\n",
    "        return 0\n",
    "    \n",
    "    @crest.action(transition=on_to_box, target=countdown)\n",
    "    def set_countdown_thirty(self):\n",
    "        return 30\n",
    "    \n",
    "    @crest.action(transition=on_to_pause, target=countdown)\n",
    "    def set_countdown_ten(self):\n",
    "        return 10\n",
    "    \n",
    "crestui.plot(GerminationSystem())"
   ]
  },
  {
   "cell_type": "markdown",
   "metadata": {},
   "source": [
    "Create a model instance of the system:"
   ]
  },
  {
   "cell_type": "code",
   "execution_count": null,
   "metadata": {},
   "outputs": [],
   "source": [
    "system = GerminationSystem()"
   ]
  },
  {
   "cell_type": "markdown",
   "metadata": {},
   "source": [
    "# Simple (Convenience) API"
   ]
  },
  {
   "cell_type": "markdown",
   "metadata": {},
   "source": [
    "## Define Checks"
   ]
  },
  {
   "cell_type": "code",
   "execution_count": null,
   "metadata": {},
   "outputs": [],
   "source": [
    "from crestdsl.verification import check\n",
    "system = GerminationSystem()  # initialise system\n",
    "\n",
    "statecheck = check(system) == system.off  # create a state check \n",
    "print(statecheck.check())  # trigger the check (returns True)\n",
    "\n",
    "portcheck = check(system.countdown) >= 0  # two port checks\n",
    "another = check(system.germinationbox_one.temperature) == 33\n",
    "\n",
    "# use of operators to alter / combine checks\n",
    "negate =  --another           # negation using minus\n",
    "orcheck = another | negate    # disjunction using | \n",
    "andcheck = another & negate   # conjunction using &\n",
    "\n",
    "# compare two ports' values\n",
    "port_compare = check(system.germinationbox_one.temperature) > system.germinationbox_two.temperature"
   ]
  },
  {
   "cell_type": "markdown",
   "metadata": {},
   "source": [
    "## Verification - convenience API "
   ]
  },
  {
   "cell_type": "code",
   "execution_count": null,
   "metadata": {},
   "outputs": [],
   "source": [
    "from crestdsl.verification import check, is_possible, before\n",
    "\n",
    "chk = check(system.countdown) == 0\n",
    "\n",
    "# usage example: chaining formula specification, after and before \n",
    "is_possible(chk).after(20).check()  # exploration takes ~40 seconds\n",
    "before(100).always(chk).check()  # takes 1min 20secs"
   ]
  },
  {
   "cell_type": "markdown",
   "metadata": {},
   "source": [
    "# TCTL API"
   ]
  },
  {
   "cell_type": "markdown",
   "metadata": {},
   "source": [
    "## Examples of TCTL formulas"
   ]
  },
  {
   "cell_type": "code",
   "execution_count": null,
   "metadata": {},
   "outputs": [],
   "source": [
    "from crestdsl.verification import tctl, check\n",
    "\n",
    "# define a system and checks\n",
    "sys = GerminationSystem()\n",
    "tl = check(sys.countdown) < 5\n",
    "tvl = check(sys.countdown) <= 3\n",
    "is_pause = check(sys) == sys.pause\n",
    "\n",
    "\n",
    "tl_until_tvl = tctl.AU(tl, tvl)  # default interval = [0, inf)\n",
    "\n",
    "# reachability formula\n",
    "tvl_reachable_before_30 = tctl.EF(tvl, tctl.Interval(end=30))\n",
    "\n",
    "# use of operators for interval specifications\n",
    "after_10 = tctl.Interval() > 10\n",
    "within_30 = tctl.Interval() <= 30\n",
    "always_pause_within_30 = tctl.AG(tctl.EF(is_pause, within_30), after_10)"
   ]
  },
  {
   "cell_type": "markdown",
   "metadata": {},
   "source": [
    "## TCTL Model Checking"
   ]
  },
  {
   "cell_type": "code",
   "execution_count": null,
   "metadata": {},
   "outputs": [],
   "source": [
    "from crestdsl.verification import StateSpace, ModelChecker\n",
    "sys = GerminationSystem()\n",
    "formula = tctl.AG(tctl.EF(is_pause, tctl.Interval() > 10), \n",
    "                    tctl.Interval() <= 30)\n",
    "statespace = StateSpace(sys)\n",
    "statespace.explore(None)      # explore entire state space (takes ~20 seconds)\n",
    "mc = ModelChecker(statespace)\n",
    "mc.check(tvl_reachable_before_30)  # trigger model checking"
   ]
  }
 ],
 "metadata": {
  "kernelspec": {
   "display_name": "Python 3",
   "language": "python",
   "name": "python3"
  },
  "language_info": {
   "codemirror_mode": {
    "name": "ipython",
    "version": 3
   },
   "file_extension": ".py",
   "mimetype": "text/x-python",
   "name": "python",
   "nbconvert_exporter": "python",
   "pygments_lexer": "ipython3",
   "version": "3.7.3"
  }
 },
 "nbformat": 4,
 "nbformat_minor": 2
}
