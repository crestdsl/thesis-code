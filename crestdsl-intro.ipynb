{
 "cells": [
  {
   "cell_type": "markdown",
   "metadata": {},
   "source": [
    "# Welcome! \n",
    "This notebook presents some of the code that is described in Chapter 5 of Stefan Klikovits's thesis titled \"A Domain-Specific Language Approach to Hybrid CPS Modelling\".\n",
    "You can execute the code cells by clicking the little play button above."
   ]
  },
  {
   "cell_type": "code",
   "execution_count": 1,
   "metadata": {},
   "outputs": [],
   "source": [
    "# Import of the CREST library\n",
    "import crestdsl\n",
    "\n",
    "# A specific subpackage (e.g. the model) \n",
    "# can be imported as follows\n",
    "import crestdsl.model as crest"
   ]
  },
  {
   "cell_type": "markdown",
   "metadata": {},
   "source": [
    "Most basic resources and entity definition"
   ]
  },
  {
   "cell_type": "code",
   "execution_count": 2,
   "metadata": {},
   "outputs": [],
   "source": [
    "# use CREST's domain types to specify the domain\n",
    "watt = crest.Resource(unit=\"Watt\", domain=crest.REAL)  \n",
    "lumen = crest.Resource(unit=\"Lumen\", domain=crest.INTEGER)\n",
    "\n",
    "my_lamp = crest.Entity()\n",
    "my_lamp.in_port = crest.Input(resource=watt, value=100)\n",
    "my_lamp.out_port = crest.Output(lumen, 0)\n",
    "my_lamp.on = crest.State()\n",
    "my_lamp.off = crest.State()\n",
    "my_lamp.current = my_lamp.off"
   ]
  },
  {
   "cell_type": "markdown",
   "metadata": {},
   "source": [
    "A very basic entity type"
   ]
  },
  {
   "cell_type": "code",
   "execution_count": 3,
   "metadata": {},
   "outputs": [],
   "source": [
    "class MyLamp(crest.Entity):\n",
    "    in_port = crest.Input(resource=watt, value=100)\n",
    "    out_port = crest.Output(watt, 0)\n",
    "    on = crest.State()\n",
    "    off = crest.State()\n",
    "    current = off\n",
    "    \n",
    "my_new_lamp = MyLamp()\n",
    "my_other_lamp = MyLamp()"
   ]
  },
  {
   "cell_type": "markdown",
   "metadata": {},
   "source": [
    "An entity with dynamic behaviour"
   ]
  },
  {
   "cell_type": "code",
   "execution_count": 4,
   "metadata": {},
   "outputs": [],
   "source": [
    "class DynamicLamp(crest.Entity):\n",
    "    in_port = crest.Input(resource=watt, value=100)\n",
    "    out_port = crest.Output(watt, 0)\n",
    "    on = crest.State()\n",
    "    off = crest.State()\n",
    "    current = off\n",
    "    \n",
    "    off_to_on = crest.Transition(source=off, target=on, \\\n",
    "        guard=(lambda self: self.in_port.value >= 100))\n",
    "    \n",
    "    @crest.transition(source=on, target=off)\n",
    "    def on_to_off(self):\n",
    "        return self.in_port.value < 100\n",
    "    \n",
    "    # output = 90 watt output * 15 lumen per watt\n",
    "    output_when_on = crest.Update(state=on, target=out_port, \\\n",
    "        function=(lambda self, dt: 90 * 15))\n",
    "    \n",
    "    \n",
    "    @crest.update(state=off, target=out_port)\n",
    "    def output_when_off(self, dt):\n",
    "        return 0"
   ]
  },
  {
   "cell_type": "markdown",
   "metadata": {},
   "source": [
    "Subclassing as form of extension and specialisation"
   ]
  },
  {
   "cell_type": "code",
   "execution_count": 5,
   "metadata": {},
   "outputs": [],
   "source": [
    "switch = crest.Resource(unit=\"lampSwitch\", domain=[\"on\", \"off\"])\n",
    "class SwitchLamp(DynamicLamp):\n",
    "    switch_input = crest.Input(resource=switch, value=\"off\")\n",
    "        \n",
    "    @crest.transition(source=\"on\", target=\"off\")\n",
    "    def switch_off(self):  # extend DynamicLamp functionality\n",
    "        return self.switch_input.value == \"off\"\n",
    "        \n",
    "    @crest.transition(source=\"off\", target=\"on\")\n",
    "    def off_to_on(self):  # override DynamicLamp functionality\n",
    "        return self.in_port.value >= 100 and \\\n",
    "            self.switch_input.value == \"on\" "
   ]
  },
  {
   "cell_type": "markdown",
   "metadata": {},
   "source": [
    "Parameterisable entities (with `__init__` constructors)"
   ]
  },
  {
   "cell_type": "code",
   "execution_count": 6,
   "metadata": {},
   "outputs": [],
   "source": [
    "factor = crest.Resource(unit=\"efficiency\", domain=crest.REAL)\n",
    "class GenericLamp(DynamicLamp):\n",
    "    threshold = crest.Local(watt, value=100)  # default value\n",
    "    efficiency = crest.Local(factor, 0.75)\n",
    "    \n",
    "    def __init__(self, threshold, efficiency=0.75):\n",
    "        # constructor: one mandatory + one optional parameter\n",
    "        self.threshold.value = threshold\n",
    "        self.efficiency.value = efficiency\n",
    "    \n",
    "    @crest.transition(source=\"off\", target=\"on\")\n",
    "    def off_to_on(self):\n",
    "        return self.in_port.value >= self.threshold.value\n",
    "    \n",
    "    @crest.transition(source=\"on\", target=\"off\")\n",
    "    def on_to_off(self):\n",
    "        return self.in_port.value < self.threshold.value\n",
    "    \n",
    "    @crest.update(state=\"on\", target=\"out_port\")\n",
    "    def output_when_on(self, dt):\n",
    "        return self.in_port.value * self.efficiency.value * 15  \n",
    "    \n",
    "powerful_lamp = GenericLamp(300)\n",
    "efficient_lamp = GenericLamp(50, .97)"
   ]
  },
  {
   "cell_type": "markdown",
   "metadata": {},
   "source": [
    "Compose entities to a system (with subentities)"
   ]
  },
  {
   "cell_type": "code",
   "execution_count": 7,
   "metadata": {},
   "outputs": [],
   "source": [
    "class LampComposition(crest.Entity):\n",
    "    # inputs\n",
    "    switch_input = crest.Input(resource=switch, value=\"off\")\n",
    "    in_port = crest.Input(resource=watt, value=100)\n",
    "    \n",
    "    # subentities\n",
    "    big_lamp = GenericLamp(300)\n",
    "    small_lamp = GenericLamp(100, .9)\n",
    "    \n",
    "    # outputs\n",
    "    big_out = crest.Output(watt, 0)\n",
    "    small_out = crest.Output(watt, 0)\n",
    "    \n",
    "    # states\n",
    "    on = crest.State()\n",
    "    off = crest.State()\n",
    "    current = off\n",
    "    \n",
    "    # transitions\n",
    "    @crest.transition(source=off, target=on)\n",
    "    def off_to_on(self):\n",
    "        return self.switch_input.value == \"on\"\n",
    "    \n",
    "    @crest.transition(source=on, target=off)\n",
    "    def on_to_off(self):\n",
    "        return self.switch_input.value != \"on\"\n",
    "    \n",
    "    # setting of subentity inputs\n",
    "    @crest.update(state=on, target=small_lamp.in_port)\n",
    "    def set_small_lamp_input_when_on(self, dt):\n",
    "        if self.in_port.value > 100:\n",
    "            return 100\n",
    "        else:\n",
    "            return 0\n",
    "    \n",
    "    @crest.update(state=off, target=small_lamp.in_port)\n",
    "    def set_small_lamp_input_when_off(self, dt):\n",
    "        return 0\n",
    "    \n",
    "    @crest.update(state=on, target=big_lamp.in_port)\n",
    "    def set_big_lamp_input_when_on(self, dt):\n",
    "        if self.in_port.value < 100:\n",
    "            return 0\n",
    "        else:\n",
    "            return self.in_port.value - 100\n",
    "    \n",
    "    @crest.update(state=off, target=big_lamp.in_port)\n",
    "    def set_big_lamp_input_when_off(self, dt):\n",
    "        return 0\n",
    "    \n",
    "    \n",
    "    # connect subentity output to entity output\n",
    "    @crest.influence(source=big_lamp.out_port, target=big_out)\n",
    "    def forward_big_output(value):\n",
    "        # influences only take one parameter: value\n",
    "        return value\n",
    "    \n",
    "    forward_small_output = crest.Influence(\n",
    "        source=small_lamp.out_port, target=small_out)\n",
    "        \n",
    "composition = LampComposition()"
   ]
  },
  {
   "cell_type": "markdown",
   "metadata": {},
   "source": [
    "## Validator"
   ]
  },
  {
   "cell_type": "code",
   "execution_count": 8,
   "metadata": {},
   "outputs": [
    {
     "name": "stderr",
     "output_type": "stream",
     "text": [
      "ERROR:root:Problem in check 'check_current_states': Entity  has no current state\n",
      "ERROR:root:Problem in check 'check_current_states': Entity  has no current state\n"
     ]
    },
    {
     "ename": "AssertionError",
     "evalue": "Entity  has no current state",
     "output_type": "error",
     "traceback": [
      "\u001b[0;31m---------------------------------------------------------------------------\u001b[0m",
      "\u001b[0;31mAssertionError\u001b[0m                            Traceback (most recent call last)",
      "\u001b[0;32m<ipython-input-8-31c3fa49a356>\u001b[0m in \u001b[0;36m<module>\u001b[0;34m\u001b[0m\n\u001b[1;32m     10\u001b[0m \u001b[0;34m\u001b[0m\u001b[0m\n\u001b[1;32m     11\u001b[0m \u001b[0;31m# write to error log: [...] Entity  has no current state\u001b[0m\u001b[0;34m\u001b[0m\u001b[0;34m\u001b[0m\u001b[0;34m\u001b[0m\u001b[0m\n\u001b[0;32m---> 12\u001b[0;31m \u001b[0mSystemCheck\u001b[0m\u001b[0;34m(\u001b[0m\u001b[0mgl\u001b[0m\u001b[0;34m)\u001b[0m\u001b[0;34m.\u001b[0m\u001b[0mcheck_all\u001b[0m\u001b[0;34m(\u001b[0m\u001b[0mexit_on_error\u001b[0m\u001b[0;34m=\u001b[0m\u001b[0;32mTrue\u001b[0m\u001b[0;34m)\u001b[0m \u001b[0;31m# AssertionError\u001b[0m\u001b[0;34m\u001b[0m\u001b[0;34m\u001b[0m\u001b[0m\n\u001b[0m",
      "\u001b[0;32m~/CREST/crestdsl/model/systemcheck.py\u001b[0m in \u001b[0;36mcheck_all\u001b[0;34m(self, exit_on_error)\u001b[0m\n\u001b[1;32m     73\u001b[0m                 \u001b[0mlogging\u001b[0m\u001b[0;34m.\u001b[0m\u001b[0merror\u001b[0m\u001b[0;34m(\u001b[0m\u001b[0;34mf\"Problem in check '{check.__name__}': {str(exc)}\"\u001b[0m\u001b[0;34m)\u001b[0m\u001b[0;34m\u001b[0m\u001b[0;34m\u001b[0m\u001b[0m\n\u001b[1;32m     74\u001b[0m                 \u001b[0;32mif\u001b[0m \u001b[0mexit_on_error\u001b[0m\u001b[0;34m:\u001b[0m\u001b[0;34m\u001b[0m\u001b[0;34m\u001b[0m\u001b[0m\n\u001b[0;32m---> 75\u001b[0;31m                     \u001b[0;32mraise\u001b[0m \u001b[0mexc\u001b[0m\u001b[0;34m\u001b[0m\u001b[0;34m\u001b[0m\u001b[0m\n\u001b[0m\u001b[1;32m     76\u001b[0m                 \u001b[0mno_problems\u001b[0m \u001b[0;34m=\u001b[0m \u001b[0;32mFalse\u001b[0m\u001b[0;34m\u001b[0m\u001b[0;34m\u001b[0m\u001b[0m\n\u001b[1;32m     77\u001b[0m             \u001b[0;32melse\u001b[0m\u001b[0;34m:\u001b[0m\u001b[0;34m\u001b[0m\u001b[0;34m\u001b[0m\u001b[0m\n",
      "\u001b[0;32m~/CREST/crestdsl/model/systemcheck.py\u001b[0m in \u001b[0;36mcheck_all\u001b[0;34m(self, exit_on_error)\u001b[0m\n\u001b[1;32m     69\u001b[0m             \u001b[0;32mtry\u001b[0m\u001b[0;34m:\u001b[0m\u001b[0;34m\u001b[0m\u001b[0;34m\u001b[0m\u001b[0m\n\u001b[1;32m     70\u001b[0m                 \u001b[0mlogger\u001b[0m\u001b[0;34m.\u001b[0m\u001b[0mdebug\u001b[0m\u001b[0;34m(\u001b[0m\u001b[0;34mf\"Starting check {check.__name__}\"\u001b[0m\u001b[0;34m)\u001b[0m\u001b[0;34m\u001b[0m\u001b[0;34m\u001b[0m\u001b[0m\n\u001b[0;32m---> 71\u001b[0;31m                 \u001b[0mcheck\u001b[0m\u001b[0;34m(\u001b[0m\u001b[0;34m)\u001b[0m\u001b[0;34m\u001b[0m\u001b[0;34m\u001b[0m\u001b[0m\n\u001b[0m\u001b[1;32m     72\u001b[0m             \u001b[0;32mexcept\u001b[0m \u001b[0mAssertionError\u001b[0m \u001b[0;32mas\u001b[0m \u001b[0mexc\u001b[0m\u001b[0;34m:\u001b[0m\u001b[0;34m\u001b[0m\u001b[0;34m\u001b[0m\u001b[0m\n\u001b[1;32m     73\u001b[0m                 \u001b[0mlogging\u001b[0m\u001b[0;34m.\u001b[0m\u001b[0merror\u001b[0m\u001b[0;34m(\u001b[0m\u001b[0;34mf\"Problem in check '{check.__name__}': {str(exc)}\"\u001b[0m\u001b[0;34m)\u001b[0m\u001b[0;34m\u001b[0m\u001b[0;34m\u001b[0m\u001b[0m\n",
      "\u001b[0;32m~/CREST/crestdsl/model/systemcheck.py\u001b[0m in \u001b[0;36mcheck_current_states\u001b[0;34m(self)\u001b[0m\n\u001b[1;32m    104\u001b[0m         \u001b[0;32mfor\u001b[0m \u001b[0mentity\u001b[0m \u001b[0;32min\u001b[0m \u001b[0mcrest\u001b[0m\u001b[0;34m.\u001b[0m\u001b[0mget_all_entities\u001b[0m\u001b[0;34m(\u001b[0m\u001b[0mself\u001b[0m\u001b[0;34m.\u001b[0m\u001b[0mmodel\u001b[0m\u001b[0;34m)\u001b[0m\u001b[0;34m:\u001b[0m\u001b[0;34m\u001b[0m\u001b[0;34m\u001b[0m\u001b[0m\n\u001b[1;32m    105\u001b[0m             \u001b[0;32mif\u001b[0m \u001b[0mlen\u001b[0m\u001b[0;34m(\u001b[0m\u001b[0mcrest\u001b[0m\u001b[0;34m.\u001b[0m\u001b[0mget_states\u001b[0m\u001b[0;34m(\u001b[0m\u001b[0mentity\u001b[0m\u001b[0;34m)\u001b[0m\u001b[0;34m)\u001b[0m \u001b[0;34m>\u001b[0m \u001b[0;36m0\u001b[0m\u001b[0;34m:\u001b[0m\u001b[0;34m\u001b[0m\u001b[0;34m\u001b[0m\u001b[0m\n\u001b[0;32m--> 106\u001b[0;31m                 \u001b[0;32massert\u001b[0m \u001b[0mentity\u001b[0m\u001b[0;34m.\u001b[0m\u001b[0mcurrent\u001b[0m \u001b[0;32mis\u001b[0m \u001b[0;32mnot\u001b[0m \u001b[0;32mNone\u001b[0m\u001b[0;34m,\u001b[0m \u001b[0;34mf\"Entity {entity._name} has no current state\"\u001b[0m\u001b[0;34m\u001b[0m\u001b[0;34m\u001b[0m\u001b[0m\n\u001b[0m\u001b[1;32m    107\u001b[0m                 \u001b[0;32massert\u001b[0m \u001b[0misinstance\u001b[0m\u001b[0;34m(\u001b[0m\u001b[0mentity\u001b[0m\u001b[0;34m.\u001b[0m\u001b[0mcurrent\u001b[0m\u001b[0;34m,\u001b[0m \u001b[0mcrest\u001b[0m\u001b[0;34m.\u001b[0m\u001b[0mState\u001b[0m\u001b[0;34m)\u001b[0m\u001b[0;34m,\u001b[0m \u001b[0;34mf\"Entity's current state '{entity._name}' is not a crest.State\"\u001b[0m\u001b[0;34m\u001b[0m\u001b[0;34m\u001b[0m\u001b[0m\n\u001b[1;32m    108\u001b[0m                 \u001b[0;32massert\u001b[0m \u001b[0mentity\u001b[0m\u001b[0;34m.\u001b[0m\u001b[0mcurrent\u001b[0m \u001b[0;32min\u001b[0m \u001b[0mcrest\u001b[0m\u001b[0;34m.\u001b[0m\u001b[0mget_states\u001b[0m\u001b[0;34m(\u001b[0m\u001b[0mentity\u001b[0m\u001b[0;34m)\u001b[0m\u001b[0;34m\u001b[0m\u001b[0;34m\u001b[0m\u001b[0m\n",
      "\u001b[0;31mAssertionError\u001b[0m: Entity  has no current state"
     ]
    }
   ],
   "source": [
    "from crestdsl.model import SystemCheck\n",
    "# create instance and SystemCheck object\n",
    "gl = GenericLamp(300, .85)\n",
    "SystemCheck(gl).check_all() # returns True\n",
    "\n",
    "gl.current = None # point current state to None\n",
    "\n",
    "# write to error log: [...] Entity  has no current state\n",
    "SystemCheck(gl).check_all() # returns False\n",
    "\n",
    "# write to error log: [...] Entity  has no current state\n",
    "SystemCheck(gl).check_all(exit_on_error=True) # AssertionError"
   ]
  }
 ],
 "metadata": {
  "kernelspec": {
   "display_name": "Python 3",
   "language": "python",
   "name": "python3"
  },
  "language_info": {
   "codemirror_mode": {
    "name": "ipython",
    "version": 3
   },
   "file_extension": ".py",
   "mimetype": "text/x-python",
   "name": "python",
   "nbconvert_exporter": "python",
   "pygments_lexer": "ipython3",
   "version": "3.7.3"
  },
  "toc": {
   "base_numbering": 1,
   "nav_menu": {},
   "number_sections": true,
   "sideBar": true,
   "skip_h1_title": false,
   "title_cell": "Table of Contents",
   "title_sidebar": "Contents",
   "toc_cell": false,
   "toc_position": {},
   "toc_section_display": true,
   "toc_window_display": false
  }
 },
 "nbformat": 4,
 "nbformat_minor": 2
}
